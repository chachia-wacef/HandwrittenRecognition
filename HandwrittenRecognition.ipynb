{
  "nbformat": 4,
  "nbformat_minor": 0,
  "metadata": {
    "colab": {
      "name": "HandwrittenRecognition.ipynb",
      "provenance": [],
      "collapsed_sections": []
    },
    "kernelspec": {
      "name": "python3",
      "display_name": "Python 3"
    }
  },
  "cells": [
    {
      "cell_type": "markdown",
      "metadata": {
        "id": "Rv4h8cvhKoXv"
      },
      "source": [
        "C'est mon premier projet en deep learning . un projet classique qui va m'aider a bien entrer dans ce domaine"
      ]
    },
    {
      "cell_type": "code",
      "metadata": {
        "id": "GRdkoybAIzQg"
      },
      "source": [
        "import numpy as np\n",
        "import pandas as pd"
      ],
      "execution_count": 9,
      "outputs": []
    },
    {
      "cell_type": "code",
      "metadata": {
        "id": "NiEbjxRaI8FW"
      },
      "source": [
        "import matplotlib.pyplot as plt\n",
        "import seaborn as sns"
      ],
      "execution_count": 2,
      "outputs": []
    },
    {
      "cell_type": "code",
      "metadata": {
        "id": "yl39436vJCxL"
      },
      "source": [
        "from keras.datasets import mnist"
      ],
      "execution_count": 3,
      "outputs": []
    },
    {
      "cell_type": "code",
      "metadata": {
        "id": "3fiffMfEJIKB"
      },
      "source": [
        "from keras.layers import Dense , Convolution2D ,Dropout,Flatten,Input ,BatchNormalization ,Conv2D"
      ],
      "execution_count": 33,
      "outputs": []
    },
    {
      "cell_type": "code",
      "metadata": {
        "id": "fO3KXzwyJlF3"
      },
      "source": [
        "from keras.models import Sequential"
      ],
      "execution_count": 5,
      "outputs": []
    },
    {
      "cell_type": "code",
      "metadata": {
        "id": "haLxaKj8J4uy"
      },
      "source": [
        "from keras.layers import MaxPooling2D"
      ],
      "execution_count": 6,
      "outputs": []
    },
    {
      "cell_type": "code",
      "metadata": {
        "id": "0cc2EFykJ_2U"
      },
      "source": [
        "from keras import backend as K"
      ],
      "execution_count": 7,
      "outputs": []
    },
    {
      "cell_type": "code",
      "metadata": {
        "id": "ZL0vzU-kKDac"
      },
      "source": [
        "(x_train, y_train), (x_test, y_test) = mnist.load_data()"
      ],
      "execution_count": 11,
      "outputs": []
    },
    {
      "cell_type": "code",
      "metadata": {
        "id": "L51U92QYKKun",
        "outputId": "933269b1-5ec8-4351-dd2e-0921519bed5d",
        "colab": {
          "base_uri": "https://localhost:8080/",
          "height": 34
        }
      },
      "source": [
        "print(x_train.shape, y_train.shape)"
      ],
      "execution_count": 12,
      "outputs": [
        {
          "output_type": "stream",
          "text": [
            "(60000, 28, 28) (60000,)\n"
          ],
          "name": "stdout"
        }
      ]
    },
    {
      "cell_type": "code",
      "metadata": {
        "id": "d68qxOGVKNe9"
      },
      "source": [
        "#on doit changer les dimensions des images"
      ],
      "execution_count": 13,
      "outputs": []
    },
    {
      "cell_type": "code",
      "metadata": {
        "id": "RdXOGYFqK7II"
      },
      "source": [
        "# le CNN a besoins de dimension = 4 ,pourtant on a 3 dimensions\n",
        "#solution :"
      ],
      "execution_count": 14,
      "outputs": []
    },
    {
      "cell_type": "code",
      "metadata": {
        "id": "uGYhvL2lLXbv"
      },
      "source": [
        "x_train = x_train.reshape(x_train.shape[0],28,28,1)"
      ],
      "execution_count": 15,
      "outputs": []
    },
    {
      "cell_type": "code",
      "metadata": {
        "id": "VBlixIJ2Lg3Q"
      },
      "source": [
        "x_test = x_test.reshape(x_test.shape[0],28,28,1)"
      ],
      "execution_count": 16,
      "outputs": []
    },
    {
      "cell_type": "code",
      "metadata": {
        "id": "cI2ZdtioLpbc"
      },
      "source": [
        "# et donc on a \n",
        "input_shape = (28,28,1)"
      ],
      "execution_count": 17,
      "outputs": []
    },
    {
      "cell_type": "code",
      "metadata": {
        "id": "1IVrk02cLytI"
      },
      "source": [
        "#on a 10 résultat possible (1->9) donc on va créer un variable\n",
        "num_classes = 10"
      ],
      "execution_count": 18,
      "outputs": []
    },
    {
      "cell_type": "code",
      "metadata": {
        "id": "AEWqrzRIMOZ4"
      },
      "source": [
        "#on va convertir les vecteurs en données catégorial"
      ],
      "execution_count": 19,
      "outputs": []
    },
    {
      "cell_type": "code",
      "metadata": {
        "id": "ZOw98_aFMXsT"
      },
      "source": [
        "from keras import utils"
      ],
      "execution_count": 20,
      "outputs": []
    },
    {
      "cell_type": "code",
      "metadata": {
        "id": "yOJcVolLMbrs"
      },
      "source": [
        "y_train = utils.to_categorical(y_train, num_classes)\n",
        "y_test = utils.to_categorical(y_test, num_classes)"
      ],
      "execution_count": 22,
      "outputs": []
    },
    {
      "cell_type": "code",
      "metadata": {
        "id": "mR1tNZAOMkej"
      },
      "source": [
        "#on va convertir les données en données réelle"
      ],
      "execution_count": 23,
      "outputs": []
    },
    {
      "cell_type": "code",
      "metadata": {
        "id": "Qjcn1ohaMxSd"
      },
      "source": [
        "x_train = x_train.astype('float32')\n",
        "x_test = x_test.astype('float32')"
      ],
      "execution_count": 24,
      "outputs": []
    },
    {
      "cell_type": "code",
      "metadata": {
        "id": "bn7zdly1M0RA"
      },
      "source": [
        "#puisque les valeurs des matrices entre 0 et 255 (RGB) on va les normalisé pour faciliter l'apprentissage"
      ],
      "execution_count": 25,
      "outputs": []
    },
    {
      "cell_type": "code",
      "metadata": {
        "id": "fDoP_BggNJP4"
      },
      "source": [
        "x_train /=255"
      ],
      "execution_count": 26,
      "outputs": []
    },
    {
      "cell_type": "code",
      "metadata": {
        "id": "jTqyL3hNNOxF"
      },
      "source": [
        "x_test /=255"
      ],
      "execution_count": 27,
      "outputs": []
    },
    {
      "cell_type": "code",
      "metadata": {
        "id": "aiAA5n3jNQdo",
        "outputId": "45d071b0-b13c-4524-8300-5be6933ce691",
        "colab": {
          "base_uri": "https://localhost:8080/",
          "height": 67
        }
      },
      "source": [
        "print('x_train shape:', x_train.shape)\n",
        "print(x_train.shape[0], 'train samples')\n",
        "print(x_test.shape[0], 'test samples')"
      ],
      "execution_count": 28,
      "outputs": [
        {
          "output_type": "stream",
          "text": [
            "x_train shape: (60000, 28, 28, 1)\n",
            "60000 train samples\n",
            "10000 test samples\n"
          ],
          "name": "stdout"
        }
      ]
    },
    {
      "cell_type": "code",
      "metadata": {
        "id": "VB0xEdQjNZDe"
      },
      "source": [
        "#on va créer le modéle"
      ],
      "execution_count": 29,
      "outputs": []
    },
    {
      "cell_type": "code",
      "metadata": {
        "id": "drrII9yVNeGe"
      },
      "source": [
        "#on va créer une CNN"
      ],
      "execution_count": 30,
      "outputs": []
    },
    {
      "cell_type": "code",
      "metadata": {
        "id": "qIq-SlkONz4N"
      },
      "source": [
        "batch_size = 128\n",
        "epochs = 10"
      ],
      "execution_count": 31,
      "outputs": []
    },
    {
      "cell_type": "code",
      "metadata": {
        "id": "0xrpAudOOCWu"
      },
      "source": [
        "#un matrice de kernel de taille (3,3)\n",
        "#les fonctions d'activation : relu et softmax pour la classification\n",
        "#la couche Dropout pour minimiser l'overfitting\n",
        "model = Sequential()\n",
        "model.add(Conv2D(32, kernel_size=(3, 3),activation='relu',input_shape=input_shape))\n",
        "model.add(Conv2D(64, (3, 3), activation='relu'))\n",
        "model.add(MaxPooling2D(pool_size=(2, 2)))\n",
        "#une couche Dropout pour minimiser l'overfitting\n",
        "model.add(Dropout(0.25))\n",
        "#la couche Flatten transorme le format des données 2D en 1D(vecteurs) en conservant tous les données\n",
        "model.add(Flatten())\n",
        "model.add(Dense(256, activation='relu'))\n",
        "#une couche Dropout pour minimiser l'overfitting\n",
        "model.add(Dropout(0.5))\n",
        "# l'output a 10 neurones = nombre de classes\n",
        "model.add(Dense(num_classes, activation='softmax'))"
      ],
      "execution_count": 34,
      "outputs": []
    },
    {
      "cell_type": "code",
      "metadata": {
        "id": "xmVnw3g7STzL"
      },
      "source": [
        "#on va compiler le modéle"
      ],
      "execution_count": 35,
      "outputs": []
    },
    {
      "cell_type": "code",
      "metadata": {
        "id": "yTeBKEXXSp3a"
      },
      "source": [
        "from keras import optimizers"
      ],
      "execution_count": 37,
      "outputs": []
    },
    {
      "cell_type": "code",
      "metadata": {
        "id": "mC-1iAziSvzK"
      },
      "source": [
        "from keras import losses"
      ],
      "execution_count": 38,
      "outputs": []
    },
    {
      "cell_type": "code",
      "metadata": {
        "id": "1YmamXWcSmZM"
      },
      "source": [
        "model.compile(loss=losses.categorical_crossentropy,optimizer=optimizers.Adadelta(),metrics=['accuracy'])"
      ],
      "execution_count": 39,
      "outputs": []
    },
    {
      "cell_type": "code",
      "metadata": {
        "id": "pOEn44f_S1ZL"
      },
      "source": [
        "#on va passer maintenant au entrainement du modéle"
      ],
      "execution_count": 40,
      "outputs": []
    },
    {
      "cell_type": "code",
      "metadata": {
        "id": "GKiWaTcGTF8Y",
        "outputId": "7f4e4e58-5002-4199-f21d-1c109aca8a4f",
        "colab": {
          "base_uri": "https://localhost:8080/",
          "height": 370
        }
      },
      "source": [
        "#verbose = 1 pour afficher l'historique d'entrainement du CNN \n",
        "hist = model.fit(x_train, y_train,batch_size=batch_size,epochs=epochs,verbose=1,validation_data=(x_test, y_test))\n",
        "print(\"The model has successfully trained\")\n"
      ],
      "execution_count": 41,
      "outputs": [
        {
          "output_type": "stream",
          "text": [
            "Epoch 1/10\n",
            "469/469 [==============================] - 152s 324ms/step - loss: 2.2636 - accuracy: 0.1669 - val_loss: 2.2133 - val_accuracy: 0.3825\n",
            "Epoch 2/10\n",
            "469/469 [==============================] - 152s 325ms/step - loss: 2.1835 - accuracy: 0.3125 - val_loss: 2.1125 - val_accuracy: 0.6212\n",
            "Epoch 3/10\n",
            "469/469 [==============================] - 153s 326ms/step - loss: 2.0764 - accuracy: 0.4580 - val_loss: 1.9757 - val_accuracy: 0.7077\n",
            "Epoch 4/10\n",
            "469/469 [==============================] - 154s 328ms/step - loss: 1.9311 - accuracy: 0.5627 - val_loss: 1.7891 - val_accuracy: 0.7499\n",
            "Epoch 5/10\n",
            "469/469 [==============================] - 155s 330ms/step - loss: 1.7402 - accuracy: 0.6211 - val_loss: 1.5545 - val_accuracy: 0.7789\n",
            "Epoch 6/10\n",
            "469/469 [==============================] - 154s 328ms/step - loss: 1.5198 - accuracy: 0.6595 - val_loss: 1.3005 - val_accuracy: 0.7970\n",
            "Epoch 7/10\n",
            "469/469 [==============================] - 154s 328ms/step - loss: 1.3013 - accuracy: 0.6879 - val_loss: 1.0711 - val_accuracy: 0.8134\n",
            "Epoch 8/10\n",
            "469/469 [==============================] - 154s 328ms/step - loss: 1.1260 - accuracy: 0.7085 - val_loss: 0.8940 - val_accuracy: 0.8274\n",
            "Epoch 9/10\n",
            "469/469 [==============================] - 154s 328ms/step - loss: 0.9917 - accuracy: 0.7273 - val_loss: 0.7680 - val_accuracy: 0.8358\n",
            "Epoch 10/10\n",
            "469/469 [==============================] - 154s 328ms/step - loss: 0.8929 - accuracy: 0.7460 - val_loss: 0.6786 - val_accuracy: 0.8458\n",
            "The model has successfully trained\n"
          ],
          "name": "stdout"
        }
      ]
    },
    {
      "cell_type": "code",
      "metadata": {
        "id": "nUrG958cTe6Z"
      },
      "source": [
        "#on peut aussi utiliser \"Adam\" comme optimizer, c'est le plus connus des \"optimizers\""
      ],
      "execution_count": 43,
      "outputs": []
    },
    {
      "cell_type": "code",
      "metadata": {
        "id": "wx32ZJ6WT7Pm"
      },
      "source": [
        "#l'entrainement prend du temps pour finir\n",
        "#aprés on va enregistrer les paramétres obtenues dans une fichier qu'on va par exemple le nommer  'mnist.h5'"
      ],
      "execution_count": 44,
      "outputs": []
    },
    {
      "cell_type": "code",
      "metadata": {
        "id": "y8KqJwfQVoVN"
      },
      "source": [
        "#évaluation du modéle\n",
        "#on a 10000 datasets pour évaluer notre modéle"
      ],
      "execution_count": 45,
      "outputs": []
    },
    {
      "cell_type": "code",
      "metadata": {
        "id": "ErIHjxVxV3RR"
      },
      "source": [
        "test_loss , test_accuracy = model.evaluate(x_test, y_test, verbose=0)\n",
        "#verbose = 0 pour n'afficher pas l'historique de calcul"
      ],
      "execution_count": 46,
      "outputs": []
    },
    {
      "cell_type": "code",
      "metadata": {
        "id": "geBuIRuXZ_gx",
        "outputId": "b057d2d6-ef2e-4563-efb1-317ff230344e",
        "colab": {
          "base_uri": "https://localhost:8080/",
          "height": 34
        }
      },
      "source": [
        "print(test_loss)"
      ],
      "execution_count": 47,
      "outputs": [
        {
          "output_type": "stream",
          "text": [
            "0.678606390953064\n"
          ],
          "name": "stdout"
        }
      ]
    },
    {
      "cell_type": "code",
      "metadata": {
        "id": "lTlK_nT-aE9i",
        "outputId": "1339c2a2-6e27-41a5-9ab1-a700dad9a658",
        "colab": {
          "base_uri": "https://localhost:8080/",
          "height": 34
        }
      },
      "source": [
        "print(test_accuracy)"
      ],
      "execution_count": 48,
      "outputs": [
        {
          "output_type": "stream",
          "text": [
            "0.84579998254776\n"
          ],
          "name": "stdout"
        }
      ]
    },
    {
      "cell_type": "code",
      "metadata": {
        "id": "LoPBxUWjWNR-"
      },
      "source": [
        "#le code suivant est copié depuis stackoverflow pour créer une fenétre qui affiche : l'image , la prédiction de son contenu et la précisionde cette prédiction"
      ],
      "execution_count": 49,
      "outputs": []
    },
    {
      "cell_type": "code",
      "metadata": {
        "id": "n27O7CJiVoTl"
      },
      "source": [
        "from keras.models import load_model\n",
        "from tkinter import *\n",
        "import tkinter as tk\n",
        "import win32gui\n",
        "from PIL import ImageGrab, Image\n",
        "import numpy as np\n",
        "\n",
        "model = load_model('mnist.h5')\n",
        "\n",
        "def predict_digit(img):\n",
        "    #resize image to 28x28 pixels\n",
        "    img = img.resize((28,28))\n",
        "    #convert rgb to grayscale\n",
        "    img = img.convert('L')\n",
        "    img = np.array(img)\n",
        "    #reshaping to support our model input and normalizing\n",
        "    img = img.reshape(1,28,28,1)\n",
        "    img = img/255.0\n",
        "    #predicting the class\n",
        "    res = model.predict([img])[0]\n",
        "    return np.argmax(res), max(res)\n",
        "\n",
        "class App(tk.Tk):\n",
        "    def __init__(self):\n",
        "        tk.Tk.__init__(self)\n",
        "\n",
        "        self.x = self.y = 0\n",
        "\n",
        "        # Creating elements\n",
        "        self.canvas = tk.Canvas(self, width=300, height=300, bg = \"white\", cursor=\"cross\")\n",
        "        self.label = tk.Label(self, text=\"Thinking..\", font=(\"Helvetica\", 48))\n",
        "        self.classify_btn = tk.Button(self, text = \"Recognise\", command =         self.classify_handwriting) \n",
        "        self.button_clear = tk.Button(self, text = \"Clear\", command = self.clear_all)\n",
        "\n",
        "        # Grid structure\n",
        "        self.canvas.grid(row=0, column=0, pady=2, sticky=W, )\n",
        "        self.label.grid(row=0, column=1,pady=2, padx=2)\n",
        "        self.classify_btn.grid(row=1, column=1, pady=2, padx=2)\n",
        "        self.button_clear.grid(row=1, column=0, pady=2)\n",
        "\n",
        "        #self.canvas.bind(\"<Motion>\", self.start_pos)\n",
        "        self.canvas.bind(\"<B1-Motion>\", self.draw_lines)\n",
        "\n",
        "    def clear_all(self):\n",
        "        self.canvas.delete(\"all\")\n",
        "\n",
        "    def classify_handwriting(self):\n",
        "        HWND = self.canvas.winfo_id() # get the handle of the canvas\n",
        "        rect = win32gui.GetWindowRect(HWND) # get the coordinate of the canvas\n",
        "        im = ImageGrab.grab(rect)\n",
        "\n",
        "        digit, acc = predict_digit(im)\n",
        "        self.label.configure(text= str(digit)+', '+ str(int(acc*100))+'%')\n",
        "\n",
        "    def draw_lines(self, event):\n",
        "        self.x = event.x\n",
        "        self.y = event.y\n",
        "        r=8\n",
        "        self.canvas.create_oval(self.x-r, self.y-r, self.x + r, self.y + r, fill='black')\n",
        "\n",
        "app = App()\n",
        "mainloop()"
      ],
      "execution_count": null,
      "outputs": []
    }
  ]
}